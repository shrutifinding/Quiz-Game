{
  "nbformat": 4,
  "nbformat_minor": 0,
  "metadata": {
    "colab": {
      "provenance": []
    },
    "kernelspec": {
      "name": "python3",
      "display_name": "Python 3"
    },
    "language_info": {
      "name": "python"
    }
  },
  "cells": [
    {
      "cell_type": "code",
      "execution_count": null,
      "metadata": {
        "colab": {
          "base_uri": "https://localhost:8080/"
        },
        "id": "0go6zyYaDzg7",
        "outputId": "6370bd14-8ecf-40b9-9f17-a7dfca26b85b"
      },
      "outputs": [
        {
          "output_type": "stream",
          "name": "stdout",
          "text": [
            "Welcome to the quiz game!!\n",
            "Who is the prime minister of India?\n",
            "1. Narendra Modi\n",
            "2. Rahul Gandhi\n",
            "3. Sonia gandhi\n",
            "4. Akhilesh Yadav\n"
          ]
        }
      ],
      "source": [
        "\n",
        "def ask_question(question, options, correct_option):\n",
        "    print(question)\n",
        "    for i, option in enumerate(options, 1):\n",
        "        print(f\"{i}. {option}\")\n",
        "    answer = input(\"Please enter the number of your answer: \")\n",
        "    return answer == str(correct_option)\n",
        "\n",
        "def main():\n",
        "    print(\"Welcome to the quiz game!!\");\n",
        "    questions = [\n",
        "        {\n",
        "            \"question\": \"Who is the prime minister of India?\",\n",
        "            \"options\": [\"Narendra Modi\", \"Rahul Gandhi\", \"Sonia gandhi\", \"Akhilesh Yadav\"],\n",
        "            \"correct_option\": 1\n",
        "        },\n",
        "        {\n",
        "            \"question\": \"What is the largest planet in our solar system?\",\n",
        "            \"options\": [\"Earth\", \"Jupiter\", \"Mars\", \"Saturn\"],\n",
        "            \"correct_option\": 2\n",
        "        },\n",
        "        {\n",
        "            \"question\": \"Who wrote 'A thousand splendid suns'?\",\n",
        "            \"options\": [\"Harper Lee\", \"Khalid Hosseini\", \"Ernest Hemingway\", \"Sudha Murty\"],\n",
        "            \"correct_option\": 2\n",
        "        },\n",
        "        {\n",
        "            \"question\": \"When was article 370 abolished?\",\n",
        "            \"options\": [\"2018\", \"2023\", \"2019\", \"1950\"],\n",
        "            \"correct_option\": 3\n",
        "        }\n",
        "    ]\n",
        "\n",
        "    score = 0\n",
        "    total_questions = len(questions)\n",
        "\n",
        "    for q in questions:\n",
        "        if ask_question(q[\"question\"], q[\"options\"], q[\"correct_option\"]):\n",
        "            print(\"Correct!\\n\")\n",
        "            score += 1\n",
        "        else:\n",
        "            print(\"Wrong!\\n\")\n",
        "\n",
        "    print(f\"Quiz completed! Your total score is {score} out of {total_questions}.\")\n",
        "\n",
        "if __name__ == \"__main__\":\n",
        "    main()\n"
      ]
    }
  ]
}